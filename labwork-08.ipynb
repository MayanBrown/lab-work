{
 "cells": [
  {
   "cell_type": "markdown",
   "metadata": {},
   "source": [
    "ChEn-3170: Computational Methods in Chemical Engineering Fall 2020 UMass Lowell; Prof. V. F. de Almeida **20Oct20**\n",
    "\n",
    "# Laboratory Work 08 (22Oct20)\n",
    "$\n",
    "  \\newcommand{\\Amtrx}{\\boldsymbol{\\mathsf{A}}}\n",
    "  \\newcommand{\\Bmtrx}{\\boldsymbol{\\mathsf{B}}}\n",
    "  \\newcommand{\\Cmtrx}{\\boldsymbol{\\mathsf{C}}}\n",
    "  \\newcommand{\\Mmtrx}{\\boldsymbol{\\mathsf{M}}}\n",
    "  \\newcommand{\\Smtrx}{\\boldsymbol{\\mathsf{S}}}\n",
    "  \\newcommand{\\Imtrx}{\\boldsymbol{\\mathsf{I}}}\n",
    "  \\newcommand{\\Pmtrx}{\\boldsymbol{\\mathsf{P}}}\n",
    "  \\newcommand{\\Qmtrx}{\\boldsymbol{\\mathsf{Q}}}\n",
    "  \\newcommand{\\Lmtrx}{\\boldsymbol{\\mathsf{L}}}\n",
    "  \\newcommand{\\Umtrx}{\\boldsymbol{\\mathsf{U}}}\n",
    "  \\newcommand{\\xvec}{\\boldsymbol{\\mathsf{x}}}\n",
    "  \\newcommand{\\yvec}{\\boldsymbol{\\mathsf{y}}}\n",
    "  \\newcommand{\\zvec}{\\boldsymbol{\\mathsf{z}}}\n",
    "  \\newcommand{\\avec}{\\boldsymbol{\\mathsf{a}}}\n",
    "  \\newcommand{\\bvec}{\\boldsymbol{\\mathsf{b}}}\n",
    "  \\newcommand{\\cvec}{\\boldsymbol{\\mathsf{c}}}\n",
    "  \\newcommand{\\rvec}{\\boldsymbol{\\mathsf{r}}}\n",
    "  \\newcommand{\\gvec}{\\boldsymbol{\\mathsf{g}}}\n",
    "  \\newcommand{\\norm}[1]{\\bigl\\lVert{#1}\\bigr\\rVert}\n",
    "  \\DeclareMathOperator{\\rank}{rank}\n",
    "  \\DeclareMathOperator{\\abs}{abs}\n",
    "$"
   ]
  },
  {
   "cell_type": "markdown",
   "metadata": {},
   "source": [
    "### Name: `Your Name`"
   ]
  },
  {
   "cell_type": "markdown",
   "metadata": {},
   "source": [
    "### Rubric for each assignment: \n",
    "\n",
    "|      Context          |  Points |\n",
    "| -----------------------     | ------- |\n",
    "| Precision of the answer     |   80%   |\n",
    "| Answer Markdown readability |   10%   |\n",
    "| Code readability            |   10%   |\n",
    "    "
   ]
  },
  {
   "cell_type": "markdown",
   "metadata": {},
   "source": [
    "### <span style=\"color:red\">Guidance:</span>\n",
    "\n",
    "+  <span style=\"color:red\"> \n",
    "    Save your work frequently to a file locally to your computer.\n",
    "   </span>\n",
    "+  <span style=\"color:red\">\n",
    "    During your work and before submitting the final version do:</span> Kernel -> Restart & Run All<span style=\"color:red\">, to verify your notebook runs correctly.\n",
    "   </span>\n",
    "+  <span style=\"color:red\">\n",
    "    Save your file again.\n",
    "   </span>\n",
    "+  <span style=\"color:red\">\n",
    "    Upload the notebook file: \n",
    "   </span> labwork-xx.ipynb<span style=\"color:red\"> on Blackboard.</span>"
   ]
  },
  {
   "cell_type": "markdown",
   "metadata": {},
   "source": [
    "---\n",
    "## Table of Contents<a id=\"toa\"></a>\n",
    "* [Assignment 1 (95 pts)](#a1) Reaction rates for silicon vapor deposition.\n",
    " - [1.1)](#a11)(10 pts) Import reaction mechanism.\n",
    " - [1.2)](#a12)(10 pts) Species and stoichiometric data.\n",
    " - [1.3)](#a13)(15 pts) Compute the rank of $\\Smtrx$.\n",
    " - [1.4)](#a14)(30 pts) Compute reaction rates for given production rates; explain.\n",
    " - [1.5)](#a15)(30 pts) Provide a species production vector that allows for a unique reaction rate vector. Prove that the reaction rate vector is unique and explain.\n",
    "* [Assignment 2 (5 pts)](#a2) \n",
    "---"
   ]
  },
  {
   "cell_type": "markdown",
   "metadata": {},
   "source": [
    "## <span style=\"color:blue\">[Assignment 1 (95 pts)](#toa)</span><a id=\"a1\"></a>"
   ]
  },
  {
   "cell_type": "markdown",
   "metadata": {},
   "source": [
    "### <span style=\"color:blue\">[1.1)](#toa)(10 pts) Import the following reaction mechanism for acetaldehyde pyrolysis from the course repository `data/acetaldehyde-pyrolysis-rxn.txt` and display the reactions.</span><a id=\"a11\"></a>"
   ]
  },
  {
   "cell_type": "code",
   "execution_count": 3,
   "metadata": {},
   "outputs": [
    {
     "name": "stdout",
     "output_type": "stream",
     "text": [
      "cat: data/acetaldehyde-pyrolysis-rxn.txt: No such file or directory\r\n"
     ]
    },
    {
     "ename": "AttributeError",
     "evalue": "'tuple' object has no attribute 'close'",
     "output_type": "error",
     "traceback": [
      "\u001b[0;31m---------------------------------------------------------------------------\u001b[0m",
      "\u001b[0;31mAttributeError\u001b[0m                            Traceback (most recent call last)",
      "\u001b[0;32m<ipython-input-3-8202f38fdfcc>\u001b[0m in \u001b[0;36m<module>\u001b[0;34m\u001b[0m\n\u001b[1;32m     12\u001b[0m \u001b[0;34m\u001b[0m\u001b[0m\n\u001b[1;32m     13\u001b[0m     \u001b[0mreactions_mech\u001b[0m\u001b[0;34m.\u001b[0m\u001b[0mappend\u001b[0m\u001b[0;34m(\u001b[0m\u001b[0mlist_line\u001b[0m\u001b[0;34m.\u001b[0m\u001b[0msplit\u001b[0m\u001b[0;34m(\u001b[0m\u001b[0;34m':'\u001b[0m\u001b[0;34m)\u001b[0m\u001b[0;34m[\u001b[0m\u001b[0;36m0\u001b[0m\u001b[0;34m]\u001b[0m\u001b[0;34m)\u001b[0m\u001b[0;34m\u001b[0m\u001b[0;34m\u001b[0m\u001b[0m\n\u001b[0;32m---> 14\u001b[0;31m \u001b[0mfinput\u001b[0m\u001b[0;34m.\u001b[0m\u001b[0mclose\u001b[0m\u001b[0;34m(\u001b[0m\u001b[0;34m)\u001b[0m\u001b[0;34m\u001b[0m\u001b[0;34m\u001b[0m\u001b[0m\n\u001b[0m\u001b[1;32m     15\u001b[0m \u001b[0;34m\u001b[0m\u001b[0m\n\u001b[1;32m     16\u001b[0m \u001b[0;32mfor\u001b[0m \u001b[0mr\u001b[0m \u001b[0;32min\u001b[0m \u001b[0mreactions_mech\u001b[0m\u001b[0;34m:\u001b[0m\u001b[0;34m\u001b[0m\u001b[0;34m\u001b[0m\u001b[0m\n",
      "\u001b[0;31mAttributeError\u001b[0m: 'tuple' object has no attribute 'close'"
     ]
    }
   ],
   "source": [
    "import io \n",
    "finput = ('data/acetaldehyde-pyrolysis-rxn.txt', 'rt')\n",
    "\n",
    "!cat 'data/acetaldehyde-pyrolysis-rxn.txt'\n",
    "reactions_mech = list()\n",
    "\n",
    "for line in finput:\n",
    "    list_line = line.strip()\n",
    "    \n",
    "    if list_line[0] == '#': continue \n",
    "    if list_line[:2] == '..': continue \n",
    "    \n",
    "    reactions_mech.append(list_line.split(':')[0])\n",
    "finput.close()\n",
    "\n",
    "for r in reactions_mech:\n",
    "    i = reactions_mech.index(r)\n",
    "    print ('r%s'%r, ':', r)\n",
    "print('# of reactions:', len(reactions_mech))"
   ]
  },
  {
   "cell_type": "code",
   "execution_count": 2,
   "metadata": {},
   "outputs": [
    {
     "ename": "FileNotFoundError",
     "evalue": "[Errno 2] No such file or directory: 'http://localhost:8888/edit/acetaldehyde-pyrolysis-rxn.txt#'",
     "output_type": "error",
     "traceback": [
      "\u001b[0;31m---------------------------------------------------------------------------\u001b[0m",
      "\u001b[0;31mFileNotFoundError\u001b[0m                         Traceback (most recent call last)",
      "\u001b[0;32m<ipython-input-2-48c282fab343>\u001b[0m in \u001b[0;36m<module>\u001b[0;34m\u001b[0m\n\u001b[1;32m      1\u001b[0m \u001b[0;32mimport\u001b[0m \u001b[0mio\u001b[0m\u001b[0;34m\u001b[0m\u001b[0;34m\u001b[0m\u001b[0m\n\u001b[1;32m      2\u001b[0m \u001b[0;34m\u001b[0m\u001b[0m\n\u001b[0;32m----> 3\u001b[0;31m \u001b[0mfinput\u001b[0m \u001b[0;34m=\u001b[0m \u001b[0mopen\u001b[0m\u001b[0;34m(\u001b[0m\u001b[0;34m'http://localhost:8888/edit/acetaldehyde-pyrolysis-rxn.txt#'\u001b[0m\u001b[0;34m,\u001b[0m\u001b[0;34m'rt'\u001b[0m\u001b[0;34m)\u001b[0m\u001b[0;34m\u001b[0m\u001b[0;34m\u001b[0m\u001b[0m\n\u001b[0m\u001b[1;32m      4\u001b[0m \u001b[0;34m\u001b[0m\u001b[0m\n\u001b[1;32m      5\u001b[0m \u001b[0mreactions\u001b[0m \u001b[0;34m=\u001b[0m \u001b[0mlist\u001b[0m\u001b[0;34m(\u001b[0m\u001b[0;34m)\u001b[0m\u001b[0;34m\u001b[0m\u001b[0;34m\u001b[0m\u001b[0m\n",
      "\u001b[0;31mFileNotFoundError\u001b[0m: [Errno 2] No such file or directory: 'http://localhost:8888/edit/acetaldehyde-pyrolysis-rxn.txt#'"
     ]
    }
   ],
   "source": [
    "import io\n",
    "\n",
    "finput = open('http://localhost:8888/edit/acetaldehyde-pyrolysis-rxn.txt#','rt')\n",
    "#!cat 'data/water-gas-shift-rxn.txt'\n",
    "reactions = list()\n",
    "\n",
    "for line in finput:\n",
    "    stripped_line = line.strip()\n",
    "    if stripped_line[0] == '#': continue\n",
    "    if stripped_line[:2] == '..': continue\n",
    "        \n",
    "    reactions.append( stripped_line.split(':')[0] )\n",
    "    \n",
    "finput.close()\n",
    "    \n",
    "for r in reactions: \n",
    "    i = reactions.index(r)\n",
    "    print('r%s'%i,': ',r)\n",
    "print('# of reactions:', len(reactions_mech))\n"
   ]
  },
  {
   "cell_type": "code",
   "execution_count": 1,
   "metadata": {
    "scrolled": false
   },
   "outputs": [
    {
     "name": "stdout",
     "output_type": "stream",
     "text": [
      "r0 :  I2 <=> 2 I\n",
      "r1 :  I + CH3CHO <-> HI + CH3CO\n",
      "r2 :  CH3CO <-> CH3 + CO\n",
      "r3 :  CH3 + I2 <=> CH3I + I\n",
      "r4 :  CH3 + HI <-> CH4 + I\n",
      "n_reactions = 5\n"
     ]
    }
   ],
   "source": [
    "'''1.1) Import reaction mechanism'''\n"
   ]
  },
  {
   "cell_type": "markdown",
   "metadata": {},
   "source": [
    "### <span style=\"color:blue\">[1.2)](#toa)(10 pts) Make an organized output of the species and stoichiometric data.\n",
    "</span><a id=\"a12\"></a>"
   ]
  },
  {
   "cell_type": "code",
   "execution_count": 5,
   "metadata": {
    "scrolled": false
   },
   "outputs": [
    {
     "ename": "NameError",
     "evalue": "name 'reactions' is not defined",
     "output_type": "error",
     "traceback": [
      "\u001b[0;31m---------------------------------------------------------------------------\u001b[0m",
      "\u001b[0;31mNameError\u001b[0m                                 Traceback (most recent call last)",
      "\u001b[0;32m<ipython-input-5-040014f88c2e>\u001b[0m in \u001b[0;36m<module>\u001b[0;34m\u001b[0m\n\u001b[1;32m     15\u001b[0m \u001b[0;34m\u001b[0m\u001b[0m\n\u001b[1;32m     16\u001b[0m \u001b[0mspecies_tmp\u001b[0m\u001b[0;34m=\u001b[0m \u001b[0mlist\u001b[0m\u001b[0;34m(\u001b[0m\u001b[0;34m)\u001b[0m\u001b[0;34m\u001b[0m\u001b[0;34m\u001b[0m\u001b[0m\n\u001b[0;32m---> 17\u001b[0;31m \u001b[0;32mfor\u001b[0m \u001b[0mr\u001b[0m \u001b[0;32min\u001b[0m \u001b[0mreactions\u001b[0m\u001b[0;34m:\u001b[0m\u001b[0;34m\u001b[0m\u001b[0;34m\u001b[0m\u001b[0m\n\u001b[0m\u001b[1;32m     18\u001b[0m     \u001b[0;34m(\u001b[0m\u001b[0mleft\u001b[0m\u001b[0;34m,\u001b[0m \u001b[0mright\u001b[0m\u001b[0;34m)\u001b[0m \u001b[0;34m=\u001b[0m \u001b[0mstoich_data\u001b[0m\u001b[0;34m(\u001b[0m\u001b[0mr\u001b[0m\u001b[0;34m)\u001b[0m\u001b[0;34m\u001b[0m\u001b[0;34m\u001b[0m\u001b[0m\n\u001b[1;32m     19\u001b[0m \u001b[0;34m\u001b[0m\u001b[0m\n",
      "\u001b[0;31mNameError\u001b[0m: name 'reactions' is not defined"
     ]
    }
   ],
   "source": [
    "'''1.2) Species and stoichiometric data'''\n",
    "def stoich_data(r):\n",
    "    double_ = r.split('<=>')\n",
    "    if len(double) > 1:\n",
    "        \n",
    "        left = double_[0].strip()\n",
    "        right= double_[1].strip()\n",
    "        \n",
    "    else:\n",
    "        single_= r.split('<->')\n",
    "        left = single_[0].strip()\n",
    "        right = single_[1].strip()\n",
    "        \n",
    "    return(left, right)\n",
    "\n",
    "species_tmp= list()\n",
    "for r in reactions:\n",
    "    (left, right) = stoich_data(r)\n",
    "    \n",
    "    left_terms = left.split('+')\n",
    "    right_terms = right.split('+')\n",
    "    \n",
    "    terms = [t.strip() for t in left_terms] + [t.strip() for t in right_terms]\n",
    "    \n",
    "    for i in terms:\n",
    "        \n",
    "        assert len(tmp)==1 or len(tmp)==2,' terms = %r, i = %r, tmp = %r '%(terms,i,tmp)\n",
    "            \n",
    "        if len(tmp) == 2:\n",
    "            species_tmp.append( tmp[1].strip() )\n",
    "        \n",
    "        else:\n",
    "            species_tmp.append( i.strip() )\n",
    "\n",
    "species = list(set(species_tmp))\n",
    "print('\\nspecies =\\n',species)\n",
    "print('# of species =',len(species))\n"
   ]
  },
  {
   "cell_type": "code",
   "execution_count": 6,
   "metadata": {},
   "outputs": [
    {
     "ename": "NameError",
     "evalue": "name 'reactions' is not defined",
     "output_type": "error",
     "traceback": [
      "\u001b[0;31m---------------------------------------------------------------------------\u001b[0m",
      "\u001b[0;31mNameError\u001b[0m                                 Traceback (most recent call last)",
      "\u001b[0;32m<ipython-input-6-99c45d493f9e>\u001b[0m in \u001b[0;36m<module>\u001b[0;34m\u001b[0m\n\u001b[1;32m      1\u001b[0m \u001b[0;32mimport\u001b[0m \u001b[0mnumpy\u001b[0m \u001b[0;32mas\u001b[0m \u001b[0mnp\u001b[0m\u001b[0;34m\u001b[0m\u001b[0;34m\u001b[0m\u001b[0m\n\u001b[0;32m----> 2\u001b[0;31m \u001b[0ms_mtrx\u001b[0m \u001b[0;34m=\u001b[0m \u001b[0mnp\u001b[0m\u001b[0;34m.\u001b[0m\u001b[0mzeros\u001b[0m\u001b[0;34m(\u001b[0m\u001b[0;34m(\u001b[0m\u001b[0mlen\u001b[0m\u001b[0;34m(\u001b[0m\u001b[0mreactions\u001b[0m\u001b[0;34m)\u001b[0m\u001b[0;34m,\u001b[0m\u001b[0mlen\u001b[0m\u001b[0;34m(\u001b[0m\u001b[0mspecies\u001b[0m\u001b[0;34m)\u001b[0m\u001b[0;34m)\u001b[0m\u001b[0;34m)\u001b[0m\u001b[0;34m\u001b[0m\u001b[0;34m\u001b[0m\u001b[0m\n\u001b[0m\u001b[1;32m      3\u001b[0m \u001b[0;32mfor\u001b[0m \u001b[0mr\u001b[0m \u001b[0;32min\u001b[0m \u001b[0mreactions\u001b[0m\u001b[0;34m:\u001b[0m\u001b[0;34m\u001b[0m\u001b[0;34m\u001b[0m\u001b[0m\n\u001b[1;32m      4\u001b[0m     \u001b[0mi_row\u001b[0m \u001b[0;34m=\u001b[0m \u001b[0mreactions\u001b[0m\u001b[0;34m.\u001b[0m\u001b[0mindex\u001b[0m\u001b[0;34m(\u001b[0m\u001b[0mr\u001b[0m\u001b[0;34m)\u001b[0m\u001b[0;34m\u001b[0m\u001b[0;34m\u001b[0m\u001b[0m\n\u001b[1;32m      5\u001b[0m     \u001b[0mleft\u001b[0m  \u001b[0;34m=\u001b[0m \u001b[0mr\u001b[0m\u001b[0;34m.\u001b[0m\u001b[0msplit\u001b[0m\u001b[0;34m(\u001b[0m\u001b[0;34m'<->'\u001b[0m\u001b[0;34m)\u001b[0m\u001b[0;34m[\u001b[0m\u001b[0;36m0\u001b[0m\u001b[0;34m]\u001b[0m\u001b[0;34m.\u001b[0m\u001b[0mstrip\u001b[0m\u001b[0;34m(\u001b[0m\u001b[0;34m)\u001b[0m\u001b[0;34m\u001b[0m\u001b[0;34m\u001b[0m\u001b[0m\n",
      "\u001b[0;31mNameError\u001b[0m: name 'reactions' is not defined"
     ]
    }
   ],
   "source": [
    "import numpy as np\n",
    "s_mtrx = np.zeros((len(reactions),len(species)))\n",
    "for r in reactions:\n",
    "    i_row = reactions.index(r)\n",
    "    left  = r.split('<->')[0].strip()\n",
    "    right = r.split('<->')[1].strip()\n",
    "    left_terms = left.split('+')\n",
    "    left_terms = [t.strip() for t in left_terms]\n",
    "    right_terms = right.split('+')\n",
    "    right_terms = [t.strip() for t in right_terms]\n",
    "    \n",
    "    for t in left_terms:\n",
    "        tmp = t.split(' ')\n",
    "        if len(tmp) == 2:\n",
    "            coeff = float(tmp[0].strip())\n",
    "            species_member = tmp[1].strip()\n",
    "            j_col = species.index(species_member)\n",
    "            assert s_mtrx[i_row,j_col] == 0.0, \\\n",
    "                   'duplicates not allowed r%r: %r %r r'%\\\n",
    "                   (i_row,r,species_member,s_mtrx[i_row,j_col])\n",
    "            s_mtrx[i_row,j_col] = -1.0 * coeff\n",
    "        else:\n",
    "            species_member = tmp[0].strip()\n",
    "            j_col = species.index(species_member)\n",
    "            assert s_mtrx[i_row,j_col] == 0.0, \\\n",
    "                   'duplicates not allowed r%r: %r %r r'%\\\n",
    "                   (i_row,r,species_member,s_mtrx[i_row,j_col])\n",
    "            s_mtrx[i_row,j_col] = -1.0\n",
    "\n",
    "    for t in right_terms:\n",
    "        tmp = t.split(' ')\n",
    "        if len(tmp) == 2:\n",
    "            coeff = float(tmp[0].strip())\n",
    "            species_member = tmp[1].strip()\n",
    "            j_col = species.index(species_member)\n",
    "            assert s_mtrx[i_row,j_col] == 0.0, \\\n",
    "                   'duplicates not allowed r%r: %r %r r'%\\\n",
    "                   (i_row,r,species_member,s_mtrx[i_row,j_col])\n",
    "            s_mtrx[i_row,j_col] = 1.0 * coeff\n",
    "        else:\n",
    "            species_member = tmp[0].strip()\n",
    "            j_col = species.index(species_member)\n",
    "            assert s_mtrx[i_row,j_col] == 0.0, \\\n",
    "                   'duplicates not allowed r%r: %r %r r'%\\\n",
    "                   (i_row,r,species_member,s_mtrx[i_row,j_col])\n",
    "            s_mtrx[i_row,j_col] = 1.0\n",
    "\n",
    "print('m x n =',s_mtrx.shape)\n",
    "print('s_mtrx =\\n',s_mtrx)\n",
    "from chen_"
   ]
  },
  {
   "cell_type": "markdown",
   "metadata": {},
   "source": [
    "### <span style=\"color:blue\">[1.3)](#toa)(15 pts) Compute the rank of the stoichiometric matrix using your own algorithm.</span><a id=\"a13\"></a>"
   ]
  },
  {
   "cell_type": "code",
   "execution_count": 3,
   "metadata": {},
   "outputs": [
    {
     "name": "stdout",
     "output_type": "stream",
     "text": [
      "S shape =  (5, 9)\n",
      "rank(S) = 5\n"
     ]
    }
   ],
   "source": []
  },
  {
   "cell_type": "code",
   "execution_count": null,
   "metadata": {},
   "outputs": [],
   "source": [
    "import numpy as np\n",
    "s_mtrx = np.zeros((len(reactions),len(species)))\n",
    "for r in reactions:\n",
    "    i_row = reactions.index(r)\n",
    "    left  = r.split('<->')[0].strip()\n",
    "    right = r.split('<->')[1].strip()\n",
    "    left_terms = left.split('+')\n",
    "    left_terms = [t.strip() for t in left_terms]\n",
    "    right_terms = right.split('+')\n",
    "    right_terms = [t.strip() for t in right_terms]\n",
    "    \n",
    "    for t in left_terms:\n",
    "        tmp = t.split(' ')\n",
    "        if len(tmp) == 2:\n",
    "            coeff = float(tmp[0].strip())\n",
    "            species_member = tmp[1].strip()\n",
    "            j_col = species.index(species_member)\n",
    "            assert s_mtrx[i_row,j_col] == 0.0, \\\n",
    "                   'duplicates not allowed r%r: %r %r r'%\\\n",
    "                   (i_row,r,species_member,s_mtrx[i_row,j_col])\n",
    "            s_mtrx[i_row,j_col] = -1.0 * coeff\n",
    "        else:\n",
    "            species_member = tmp[0].strip()\n",
    "            j_col = species.index(species_member)\n",
    "            assert s_mtrx[i_row,j_col] == 0.0, \\\n",
    "                   'duplicates not allowed r%r: %r %r r'%\\\n",
    "                   (i_row,r,species_member,s_mtrx[i_row,j_col])\n",
    "            s_mtrx[i_row,j_col] = -1.0\n",
    "\n",
    "    for t in right_terms:\n",
    "        tmp = t.split(' ')\n",
    "        if len(tmp) == 2:\n",
    "            coeff = float(tmp[0].strip())\n",
    "            species_member = tmp[1].strip()\n",
    "            j_col = species.index(species_member)\n",
    "            assert s_mtrx[i_row,j_col] == 0.0, \\\n",
    "                   'duplicates not allowed r%r: %r %r r'%\\\n",
    "                   (i_row,r,species_member,s_mtrx[i_row,j_col])\n",
    "            s_mtrx[i_row,j_col] = 1.0 * coeff\n",
    "        else:\n",
    "            species_member = tmp[0].strip()\n",
    "            j_col = species.index(species_member)\n",
    "            assert s_mtrx[i_row,j_col] == 0.0, \\\n",
    "                   'duplicates not allowed r%r: %r %r r'%\\\n",
    "                   (i_row,r,species_member,s_mtrx[i_row,j_col])\n",
    "            s_mtrx[i_row,j_col] = 1.0\n",
    "\n",
    "print('s shape= ',s_mtrx.shape)\n",
    "print('s_mtrx =\\n',s_mtrx)\n",
    "print ('rank =',s_mtrx.rank() "
   ]
  },
  {
   "cell_type": "markdown",
   "metadata": {},
   "source": [
    "### <span style=\"color:blue\">[1.4)](#toa) Given the following productions rate vector [mol/(s cc)],\n",
    "</span>\n",
    "\n",
    "<br>\n",
    "\n",
    "<span style=\"color:blue\">\n",
    "$\\gvec = \\begin{pmatrix}\n",
    " -2.772 \\\\\n",
    " 1.35 \\\\\n",
    " 0.692 \\\\\n",
    " -2.37 \\\\\n",
    " -2.266 \\\\\n",
    " -2.476 \\\\\n",
    " 0.124  \\\\\n",
    " -1.486 \\\\\n",
    " -0.553 \n",
    " \\end{pmatrix}\n",
    "$\n",
    "</span>\n",
    "\n",
    "<br>\n",
    "\n",
    "### <span style=\"color:blue\">for the species:</span>\n",
    "\n",
    "<br>\n",
    "\n",
    " <span style=\"color:blue\">\n",
    "      I, CH3CO, HI, CO, CH3I, CH3CHO, I2, CH4, CH3,\n",
    " </span>  \n",
    " \n",
    "<br>\n",
    "\n",
    "### <span style=\"color:blue\">compute the reaction rates vector and make a plot. Use your own algorithms and explain your work, that is, what is the meaning of your computed reaction rate vector? What problem are you solving to obtain the reaction rate vector from the given production rate vector? Do the production rate equations have a solution? If so, is it unique? Why or why not?</span><a id=\"a14\"></a>"
   ]
  },
  {
   "cell_type": "code",
   "execution_count": null,
   "metadata": {},
   "outputs": [],
   "source": [
    "g_dict = dict()\n",
    "\n",
    "g_dict[\"I\"] = -2.772\n",
    "g_dict[\"CH3CO\"] =  1.35\n",
    "g_dict[\"HI\"] =  0.692\n",
    "g_dict[\"CO\"] = -2.37\n",
    "g_dict[\"CH3I\"] =  -2.266\n",
    "g_dict[\"CH3CHO\"] = -2.476\n",
    "g_dict[ \"I2\"] = 0.124\n",
    "g_dict[\"CH4\"] = -1.486\n",
    "g_dict[\"CH3\"] = -0.55\n",
    "\n",
    "for spc in species:\n",
    "    g_vec[species.index(spc)] = g_dict[spc]\n",
    "\n",
    "a_mtrx = stoich_mtrx @ stoich_mtrx.transpose()"
   ]
  },
  {
   "cell_type": "code",
   "execution_count": null,
   "metadata": {},
   "outputs": [],
   "source": [
    "'''1.4) Compute a reaction rates vector'''\n"
   ]
  },
  {
   "cell_type": "markdown",
   "metadata": {},
   "source": [
    "reaction rates r_vec = [0.174, 0.898, -1.715, -1.205, -0.563]"
   ]
  },
  {
   "cell_type": "code",
   "execution_count": 6,
   "metadata": {},
   "outputs": [
    {
     "data": {
      "image/png": "[encoded data removed]",
      "text/plain": [
       "<Figure size 1440x432 with 1 Axes>"
      ]
     },
     "metadata": {
      "needs_background": "light"
     },
     "output_type": "display_data"
    }
   ],
   "source": [
    "'''1.4) Plot of reaction rates'''\n"
   ]
  },
  {
   "cell_type": "code",
   "execution_count": null,
   "metadata": {},
   "outputs": [],
   "source": []
  },
  {
   "cell_type": "markdown",
   "metadata": {},
   "source": [
    "**Explanation:**"
   ]
  },
  {
   "cell_type": "markdown",
   "metadata": {},
   "source": [
    "### <span style=\"color:blue\">[1.5)](#toa) Find a production rate vector $\\gvec$ for which the problem \n",
    "\n",
    "<br>\n",
    "    \n",
    "<span style=\"color:blue\">    \n",
    "\\begin{equation*}\n",
    "\\Smtrx^\\top\\,\\rvec = \\gvec\n",
    "\\end{equation*}\n",
    "</span> \n",
    "\n",
    "### <span style=\"color:blue\">is unique, and verify the uniqueness of this reaction rate. Explain your work.</span><a id=\"a15\"></a>"
   ]
  },
  {
   "cell_type": "code",
   "execution_count": null,
   "metadata": {
    "scrolled": true
   },
   "outputs": [],
   "source": [
    "'''1.5) Find production rates for unique reaction rates'''\n"
   ]
  },
  {
   "cell_type": "markdown",
   "metadata": {},
   "source": [
    "**Explanation:**"
   ]
  },
  {
   "cell_type": "markdown",
   "metadata": {},
   "source": [
    "## <span style=\"color:blue\">[Assignment 2 (5 pts)](#toa)</span><a id=\"a2\"></a>"
   ]
  },
  {
   "cell_type": "markdown",
   "metadata": {},
   "source": [
    "### <span style=\"color:blue\">Describe the most unclear point in the content presented so far. Then, make an effort to clarify the point on your own.</span>"
   ]
  }
 ],
 "metadata": {
  "kernelspec": {
   "display_name": "Python 3",
   "language": "python",
   "name": "python3"
  },
  "language_info": {
   "codemirror_mode": {
    "name": "ipython",
    "version": 3
   },
   "file_extension": ".py",
   "mimetype": "text/x-python",
   "name": "python",
   "nbconvert_exporter": "python",
   "pygments_lexer": "ipython3",
   "version": "3.8.3"
  },
  "latex_envs": {
   "LaTeX_envs_menu_present": true,
   "autoclose": false,
   "autocomplete": true,
   "bibliofile": "biblio.bib",
   "cite_by": "apalike",
   "current_citInitial": 1,
   "eqLabelWithNumbers": true,
   "eqNumInitial": 1,
   "hotkeys": {
    "equation": "Ctrl-E",
    "itemize": "Ctrl-I"
   },
   "labels_anchors": false,
   "latex_user_defs": false,
   "report_style_numbering": false,
   "user_envs_cfg": false
  }
 },
 "nbformat": 4,
 "nbformat_minor": 2
}
